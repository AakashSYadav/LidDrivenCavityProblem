{
 "cells": [
  {
   "cell_type": "markdown",
   "metadata": {},
   "source": [
    "# LidDrivenCavityProblem\n",
    "\n",
    "This repository contains the parts of my semester project in ME5101 Computational Fluid Dynamics course. Here I have simulated the flow taking place in the lid-driven cavity problem.\n",
    "There two main python files\n",
    "* `unsteadySteady.py` Contains the simulation for the transient regime\n",
    "* `steadySteady.py` Contains the simulation for the steady state regime\n",
    "\n",
    "The below image show the simulation for the unsteady state analysis.\n",
    "![](media/sim.gif)\n",
    "\n",
    "To see the in-depth details and the physics of the problem please refer to the [projectReport.pdf](https://github.com/AakashSYadav/LidDrivenCavityProblem/blob/master/projectReport.pdf)"
   ]
  },
  {
   "cell_type": "code",
   "execution_count": null,
   "metadata": {},
   "outputs": [],
   "source": []
  }
 ],
 "metadata": {
  "kernelspec": {
   "display_name": "Python 3",
   "language": "python",
   "name": "python3"
  },
  "language_info": {
   "codemirror_mode": {
    "name": "ipython",
    "version": 3
   },
   "file_extension": ".py",
   "mimetype": "text/x-python",
   "name": "python",
   "nbconvert_exporter": "python",
   "pygments_lexer": "ipython3",
   "version": "3.6.7"
  }
 },
 "nbformat": 4,
 "nbformat_minor": 2
}
